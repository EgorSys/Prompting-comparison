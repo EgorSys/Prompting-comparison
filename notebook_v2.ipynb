{
 "cells": [
  {
   "cell_type": "markdown",
   "metadata": {},
   "source": [
    "# Data"
   ]
  },
  {
   "cell_type": "code",
   "execution_count": 18,
   "metadata": {},
   "outputs": [],
   "source": [
    "import pandas as pd"
   ]
  },
  {
   "cell_type": "code",
   "execution_count": 19,
   "metadata": {},
   "outputs": [],
   "source": [
    "ratings = pd.read_csv('ml-25m/ratings.csv')\n",
    "movies = pd.read_csv('ml-25m/movies.csv')\n",
    "tags = pd.read_csv('ml-25m/tags.csv')"
   ]
  },
  {
   "cell_type": "code",
   "execution_count": 20,
   "metadata": {},
   "outputs": [
    {
     "name": "stdout",
     "output_type": "stream",
     "text": [
      "<class 'pandas.core.frame.DataFrame'>\n",
      "RangeIndex: 834731 entries, 0 to 834730\n",
      "Data columns (total 7 columns):\n",
      " #   Column     Non-Null Count   Dtype  \n",
      "---  ------     --------------   -----  \n",
      " 0   userId     834731 non-null  int64  \n",
      " 1   movieId    834731 non-null  int64  \n",
      " 2   rating     834731 non-null  float64\n",
      " 3   timestamp  834731 non-null  int64  \n",
      " 4   title      834731 non-null  object \n",
      " 5   genres     834731 non-null  object \n",
      " 6   tag        834730 non-null  object \n",
      "dtypes: float64(1), int64(3), object(3)\n",
      "memory usage: 44.6+ MB\n"
     ]
    }
   ],
   "source": [
    "df = ratings.merge(movies, on='movieId', how='left')\n",
    "df = df.merge(tags.drop(columns='timestamp'), on=['userId', 'movieId'], how='inner')\n",
    "df.info()"
   ]
  },
  {
   "cell_type": "code",
   "execution_count": 21,
   "metadata": {},
   "outputs": [],
   "source": [
    "#for testing purposes\n",
    "df = df.sample(100000).reset_index()"
   ]
  },
  {
   "cell_type": "code",
   "execution_count": 22,
   "metadata": {},
   "outputs": [
    {
     "name": "stderr",
     "output_type": "stream",
     "text": [
      "C:\\Users\\user\\AppData\\Local\\Temp\\ipykernel_17484\\1312594972.py:1: DtypeWarning: Columns (10) have mixed types. Specify dtype option on import or set low_memory=False.\n",
      "  metadata = pd.read_csv('ml-meta/movies_metadata.csv')\n"
     ]
    }
   ],
   "source": [
    "metadata = pd.read_csv('ml-meta/movies_metadata.csv')\n",
    "links_df = pd.read_csv('ml-meta/links.csv')"
   ]
  },
  {
   "cell_type": "code",
   "execution_count": 23,
   "metadata": {},
   "outputs": [],
   "source": [
    "metadata = metadata[['id', 'overview']]"
   ]
  },
  {
   "cell_type": "code",
   "execution_count": 24,
   "metadata": {},
   "outputs": [],
   "source": [
    "links_df = links_df.dropna(subset=['tmdbId'])\n",
    "links_df['tmdbId'] = links_df['tmdbId'].astype('int')"
   ]
  },
  {
   "cell_type": "code",
   "execution_count": 25,
   "metadata": {},
   "outputs": [],
   "source": [
    "metadata['id'] = pd.to_numeric(metadata['id'], errors='coerce')\n",
    "\n",
    "metadata = metadata.dropna(subset=['id'])\n",
    "metadata['id'] = metadata['id'].astype('int')"
   ]
  },
  {
   "cell_type": "code",
   "execution_count": 26,
   "metadata": {},
   "outputs": [
    {
     "data": {
      "text/html": [
       "<div>\n",
       "<style scoped>\n",
       "    .dataframe tbody tr th:only-of-type {\n",
       "        vertical-align: middle;\n",
       "    }\n",
       "\n",
       "    .dataframe tbody tr th {\n",
       "        vertical-align: top;\n",
       "    }\n",
       "\n",
       "    .dataframe thead th {\n",
       "        text-align: right;\n",
       "    }\n",
       "</style>\n",
       "<table border=\"1\" class=\"dataframe\">\n",
       "  <thead>\n",
       "    <tr style=\"text-align: right;\">\n",
       "      <th></th>\n",
       "      <th>overview</th>\n",
       "      <th>movieId</th>\n",
       "    </tr>\n",
       "  </thead>\n",
       "  <tbody>\n",
       "    <tr>\n",
       "      <th>0</th>\n",
       "      <td>Led by Woody, Andy's toys live happily in his ...</td>\n",
       "      <td>1</td>\n",
       "    </tr>\n",
       "    <tr>\n",
       "      <th>1</th>\n",
       "      <td>When siblings Judy and Peter discover an encha...</td>\n",
       "      <td>2</td>\n",
       "    </tr>\n",
       "    <tr>\n",
       "      <th>2</th>\n",
       "      <td>A family wedding reignites the ancient feud be...</td>\n",
       "      <td>3</td>\n",
       "    </tr>\n",
       "    <tr>\n",
       "      <th>3</th>\n",
       "      <td>Cheated on, mistreated and stepped on, the wom...</td>\n",
       "      <td>4</td>\n",
       "    </tr>\n",
       "    <tr>\n",
       "      <th>4</th>\n",
       "      <td>Just when George Banks has recovered from his ...</td>\n",
       "      <td>5</td>\n",
       "    </tr>\n",
       "  </tbody>\n",
       "</table>\n",
       "</div>"
      ],
      "text/plain": [
       "                                            overview  movieId\n",
       "0  Led by Woody, Andy's toys live happily in his ...        1\n",
       "1  When siblings Judy and Peter discover an encha...        2\n",
       "2  A family wedding reignites the ancient feud be...        3\n",
       "3  Cheated on, mistreated and stepped on, the wom...        4\n",
       "4  Just when George Banks has recovered from his ...        5"
      ]
     },
     "execution_count": 26,
     "metadata": {},
     "output_type": "execute_result"
    }
   ],
   "source": [
    "\n",
    "overviews = metadata.merge(links_df[['movieId', 'tmdbId']], left_on='id', right_on='tmdbId', how='inner')\n",
    "overviews = overviews.dropna(subset=['overview'])\n",
    "overviews.drop(columns=['tmdbId', 'id'], inplace=True)\n",
    "overviews.head()"
   ]
  },
  {
   "cell_type": "markdown",
   "metadata": {},
   "source": [
    "# Models"
   ]
  },
  {
   "cell_type": "code",
   "execution_count": 9,
   "metadata": {},
   "outputs": [],
   "source": [
    "import ollama"
   ]
  },
  {
   "cell_type": "code",
   "execution_count": 10,
   "metadata": {},
   "outputs": [],
   "source": [
    "\n",
    "#model_llm = 'llama2'\n",
    "#model_embed = 'nomic-embed-text'\n",
    "\n",
    "##To generate, you can use\n",
    "##response = ollama.generate(model=model, prompt=prompt)\n",
    "##embedding ollama.embeddings(model=model_embed, prompt=prompt)"
   ]
  },
  {
   "cell_type": "code",
   "execution_count": 28,
   "metadata": {},
   "outputs": [],
   "source": [
    "from transformers import AutoTokenizer, AutoModel\n",
    "import torch\n",
    "import torch.nn.functional as F"
   ]
  },
  {
   "cell_type": "code",
   "execution_count": 29,
   "metadata": {},
   "outputs": [],
   "source": [
    "berttokenizer = AutoTokenizer.from_pretrained('sentence-transformers/all-MiniLM-L6-v2', cache_dir = '../src/embedcache')\n",
    "bertmodel = AutoModel.from_pretrained('sentence-transformers/all-MiniLM-L6-v2', cache_dir = '../src/embedcache')"
   ]
  },
  {
   "cell_type": "code",
   "execution_count": 30,
   "metadata": {},
   "outputs": [],
   "source": [
    "def mean_pooling(model_output, attention_mask):\n",
    "    token_embeddings = model_output[0] #First element of model_output contains all token embeddings\n",
    "    input_mask_expanded = attention_mask.unsqueeze(-1).expand(token_embeddings.size()).float()\n",
    "    return torch.sum(token_embeddings * input_mask_expanded, 1) / torch.clamp(input_mask_expanded.sum(1), min=1e-9)"
   ]
  },
  {
   "cell_type": "code",
   "execution_count": 31,
   "metadata": {},
   "outputs": [],
   "source": [
    "def embed_func(batch, tokenizer, model):\n",
    "    # Tokenize sentences\n",
    "    encoded_input = tokenizer(batch, padding=True, truncation=True, return_tensors='pt')\n",
    "\n",
    "    # Compute token embeddings\n",
    "    with torch.no_grad():\n",
    "        model_output = model(**encoded_input)\n",
    "\n",
    "    # Perform pooling\n",
    "    sentence_embeddings = mean_pooling(model_output, encoded_input['attention_mask'])\n",
    "\n",
    "    # Normalize embeddings\n",
    "    sentence_embeddings = F.normalize(sentence_embeddings, p=2, dim=1)\n",
    "\n",
    "    return [list(sentence_embeddings[0].numpy())]"
   ]
  },
  {
   "cell_type": "markdown",
   "metadata": {},
   "source": [
    "# Embeddings"
   ]
  },
  {
   "cell_type": "code",
   "execution_count": 35,
   "metadata": {},
   "outputs": [
    {
     "name": "stderr",
     "output_type": "stream",
     "text": [
      "Processing:   6%|▋         | 2840/44571 [01:07<16:36, 41.90it/s]\n",
      "Processing: 100%|█████████▉| 44569/44571 [19:43<00:00, 56.00it/s]"
     ]
    },
    {
     "name": "stderr",
     "output_type": "stream",
     "text": [
      "Processing: 100%|██████████| 44571/44571 [20:00<00:00, 56.00it/s]"
     ]
    }
   ],
   "source": [
    "from tqdm import tqdm\n",
    "embeddings = []\n",
    "\n",
    "progress_bar = tqdm(total=len(overviews), desc='Processing')\n",
    "\n",
    "for idx, row in overviews.iterrows():\n",
    "    overview = row['overview']\n",
    "    embedding = embed_func(overview, berttokenizer, bertmodel)[0]\n",
    "    embeddings.append(embedding)\n",
    "    progress_bar.update(1)\n",
    "\n",
    "overviews['vector'] = [row for row in embeddings]"
   ]
  },
  {
   "cell_type": "code",
   "execution_count": 36,
   "metadata": {},
   "outputs": [],
   "source": [
    "import lancedb\n",
    "\n",
    "uri = '../ragdb'\n",
    "ragdb = lancedb.connect(uri)\n",
    "ragdb.drop_table(\"Movies\")\n",
    "tbl = ragdb.create_table('Movies', data=overviews[['movieId', 'vector']])"
   ]
  },
  {
   "cell_type": "code",
   "execution_count": 75,
   "metadata": {},
   "outputs": [],
   "source": [
    "#test\n",
    "query = \"I would like to see more drama and romance movies\"\n",
    "max_suggestions = 10\n",
    "vector = embed_func(query, berttokenizer, bertmodel)[0]\n",
    "\n",
    "retrieved_records = tbl.search(vector).limit(max_suggestions).to_pandas()"
   ]
  },
  {
   "cell_type": "code",
   "execution_count": 78,
   "metadata": {},
   "outputs": [
    {
     "data": {
      "text/plain": [
       "[133375, 162336, 168888, 3131, 6368, 166546, 53651, 135071, 96851, 81667]"
      ]
     },
     "execution_count": 78,
     "metadata": {},
     "output_type": "execute_result"
    }
   ],
   "source": [
    "tbl.search(vector).limit(max_suggestions).to_pandas()['movieId'].to_list()"
   ]
  },
  {
   "cell_type": "code",
   "execution_count": 38,
   "metadata": {},
   "outputs": [
    {
     "data": {
      "text/html": [
       "<div>\n",
       "<style scoped>\n",
       "    .dataframe tbody tr th:only-of-type {\n",
       "        vertical-align: middle;\n",
       "    }\n",
       "\n",
       "    .dataframe tbody tr th {\n",
       "        vertical-align: top;\n",
       "    }\n",
       "\n",
       "    .dataframe thead th {\n",
       "        text-align: right;\n",
       "    }\n",
       "</style>\n",
       "<table border=\"1\" class=\"dataframe\">\n",
       "  <thead>\n",
       "    <tr style=\"text-align: right;\">\n",
       "      <th></th>\n",
       "      <th>movieId</th>\n",
       "      <th>vector</th>\n",
       "      <th>_distance</th>\n",
       "    </tr>\n",
       "  </thead>\n",
       "  <tbody>\n",
       "    <tr>\n",
       "      <th>0</th>\n",
       "      <td>133375</td>\n",
       "      <td>[-0.0692963, -0.046866897, -0.12688683, 0.0058...</td>\n",
       "      <td>0.956140</td>\n",
       "    </tr>\n",
       "    <tr>\n",
       "      <th>1</th>\n",
       "      <td>162336</td>\n",
       "      <td>[0.018908279, 0.007368817, -0.004198158, 0.045...</td>\n",
       "      <td>1.027969</td>\n",
       "    </tr>\n",
       "    <tr>\n",
       "      <th>2</th>\n",
       "      <td>168888</td>\n",
       "      <td>[-0.0013160746, -0.00991325, -0.021595787, 0.0...</td>\n",
       "      <td>1.045778</td>\n",
       "    </tr>\n",
       "    <tr>\n",
       "      <th>3</th>\n",
       "      <td>3131</td>\n",
       "      <td>[-0.029244866, -0.095703006, 0.041687638, 0.07...</td>\n",
       "      <td>1.064164</td>\n",
       "    </tr>\n",
       "    <tr>\n",
       "      <th>4</th>\n",
       "      <td>6368</td>\n",
       "      <td>[0.029268965, -0.03936354, 0.002903857, 0.0079...</td>\n",
       "      <td>1.068176</td>\n",
       "    </tr>\n",
       "    <tr>\n",
       "      <th>5</th>\n",
       "      <td>166546</td>\n",
       "      <td>[-0.015793266, -0.03366205, -0.053026374, 0.05...</td>\n",
       "      <td>1.068879</td>\n",
       "    </tr>\n",
       "    <tr>\n",
       "      <th>6</th>\n",
       "      <td>53651</td>\n",
       "      <td>[-0.02170171, -0.0036294863, -0.017068068, 0.0...</td>\n",
       "      <td>1.071693</td>\n",
       "    </tr>\n",
       "    <tr>\n",
       "      <th>7</th>\n",
       "      <td>135071</td>\n",
       "      <td>[0.062416494, -0.02689028, 0.025281953, 0.0437...</td>\n",
       "      <td>1.073855</td>\n",
       "    </tr>\n",
       "    <tr>\n",
       "      <th>8</th>\n",
       "      <td>96851</td>\n",
       "      <td>[-0.033347163, -0.040253256, 0.0376712, 0.0561...</td>\n",
       "      <td>1.075800</td>\n",
       "    </tr>\n",
       "    <tr>\n",
       "      <th>9</th>\n",
       "      <td>81667</td>\n",
       "      <td>[0.0028647617, 0.051629107, 0.028867915, 0.020...</td>\n",
       "      <td>1.080458</td>\n",
       "    </tr>\n",
       "  </tbody>\n",
       "</table>\n",
       "</div>"
      ],
      "text/plain": [
       "   movieId                                             vector  _distance\n",
       "0   133375  [-0.0692963, -0.046866897, -0.12688683, 0.0058...   0.956140\n",
       "1   162336  [0.018908279, 0.007368817, -0.004198158, 0.045...   1.027969\n",
       "2   168888  [-0.0013160746, -0.00991325, -0.021595787, 0.0...   1.045778\n",
       "3     3131  [-0.029244866, -0.095703006, 0.041687638, 0.07...   1.064164\n",
       "4     6368  [0.029268965, -0.03936354, 0.002903857, 0.0079...   1.068176\n",
       "5   166546  [-0.015793266, -0.03366205, -0.053026374, 0.05...   1.068879\n",
       "6    53651  [-0.02170171, -0.0036294863, -0.017068068, 0.0...   1.071693\n",
       "7   135071  [0.062416494, -0.02689028, 0.025281953, 0.0437...   1.073855\n",
       "8    96851  [-0.033347163, -0.040253256, 0.0376712, 0.0561...   1.075800\n",
       "9    81667  [0.0028647617, 0.051629107, 0.028867915, 0.020...   1.080458"
      ]
     },
     "execution_count": 38,
     "metadata": {},
     "output_type": "execute_result"
    }
   ],
   "source": [
    "retrieved_records"
   ]
  },
  {
   "cell_type": "code",
   "execution_count": 43,
   "metadata": {},
   "outputs": [
    {
     "data": {
      "text/html": [
       "<div>\n",
       "<style scoped>\n",
       "    .dataframe tbody tr th:only-of-type {\n",
       "        vertical-align: middle;\n",
       "    }\n",
       "\n",
       "    .dataframe tbody tr th {\n",
       "        vertical-align: top;\n",
       "    }\n",
       "\n",
       "    .dataframe thead th {\n",
       "        text-align: right;\n",
       "    }\n",
       "</style>\n",
       "<table border=\"1\" class=\"dataframe\">\n",
       "  <thead>\n",
       "    <tr style=\"text-align: right;\">\n",
       "      <th></th>\n",
       "      <th>movieId</th>\n",
       "      <th>title</th>\n",
       "      <th>genres</th>\n",
       "    </tr>\n",
       "  </thead>\n",
       "  <tbody>\n",
       "    <tr>\n",
       "      <th>29192</th>\n",
       "      <td>133375</td>\n",
       "      <td>Hush (2012)</td>\n",
       "      <td>Thriller</td>\n",
       "    </tr>\n",
       "  </tbody>\n",
       "</table>\n",
       "</div>"
      ],
      "text/plain": [
       "       movieId        title    genres\n",
       "29192   133375  Hush (2012)  Thriller"
      ]
     },
     "execution_count": 43,
     "metadata": {},
     "output_type": "execute_result"
    }
   ],
   "source": [
    "movies[movies['movieId'] == 133375]"
   ]
  },
  {
   "cell_type": "markdown",
   "metadata": {},
   "source": [
    "# Prompts"
   ]
  },
  {
   "cell_type": "code",
   "execution_count": 81,
   "metadata": {},
   "outputs": [],
   "source": [
    "def full_history_prompt(watched_movies):\n",
    "    expertice = 'Pertend you are an expert recommender system. I will give you a user and their watch history of loved movies. Based on the watch history, recommend new movies to the user.\\n'\n",
    "    history = f\"User watch history:\\n{','.join(watched_movies)}\"\n",
    "    prompt = expertice + history\n",
    "    return prompt"
   ]
  },
  {
   "cell_type": "markdown",
   "metadata": {},
   "source": [
    "# Testing"
   ]
  },
  {
   "cell_type": "code",
   "execution_count": 68,
   "metadata": {},
   "outputs": [],
   "source": [
    "df = df[df['userId'].map(df['userId'].value_counts()) >= 11]"
   ]
  },
  {
   "cell_type": "code",
   "execution_count": 69,
   "metadata": {},
   "outputs": [
    {
     "name": "stdout",
     "output_type": "stream",
     "text": [
      "<class 'pandas.core.frame.DataFrame'>\n",
      "Index: 45772 entries, 1 to 99999\n",
      "Data columns (total 8 columns):\n",
      " #   Column     Non-Null Count  Dtype  \n",
      "---  ------     --------------  -----  \n",
      " 0   index      45772 non-null  int64  \n",
      " 1   userId     45772 non-null  int64  \n",
      " 2   movieId    45772 non-null  int64  \n",
      " 3   rating     45772 non-null  float64\n",
      " 4   timestamp  45772 non-null  int64  \n",
      " 5   title      45772 non-null  object \n",
      " 6   genres     45772 non-null  object \n",
      " 7   tag        45772 non-null  object \n",
      "dtypes: float64(1), int64(4), object(3)\n",
      "memory usage: 3.1+ MB\n"
     ]
    }
   ],
   "source": [
    "df.info()"
   ]
  },
  {
   "cell_type": "code",
   "execution_count": 70,
   "metadata": {},
   "outputs": [
    {
     "data": {
      "text/plain": [
       "1116"
      ]
     },
     "execution_count": 70,
     "metadata": {},
     "output_type": "execute_result"
    }
   ],
   "source": [
    "len(df['userId'].unique())\n"
   ]
  },
  {
   "cell_type": "code",
   "execution_count": 79,
   "metadata": {},
   "outputs": [],
   "source": [
    "def recall(test_movie_ids, retrieved_ids):\n",
    "    n = len(test_movie_ids)\n",
    "    correct = 0\n",
    "    for idx in retrieved_ids:\n",
    "        if idx in test_movie_ids:\n",
    "            correct += 1\n",
    "    return correct / n"
   ]
  },
  {
   "cell_type": "code",
   "execution_count": 86,
   "metadata": {},
   "outputs": [
    {
     "name": "stderr",
     "output_type": "stream",
     "text": [
      "Processing:   6%|▌         | 63/1116 [00:17<04:45,  3.69it/s]\n",
      "Processing: 100%|█████████▉| 1114/1116 [01:39<00:00, 20.02it/s]"
     ]
    }
   ],
   "source": [
    "recalls = []\n",
    "pb = tqdm(total=len(df['userId'].unique()), desc='Processing')\n",
    "for user_id in df['userId'].unique():\n",
    "    user_df = df[df['userId'] == user_id]\n",
    "    user_df.sort_values(by='timestamp')\n",
    "    test_movie_ids = user_df.head(10)['movieId'].to_list()\n",
    "    prompt_movies = user_df.head(-10)['title'].to_list()\n",
    "    prompt = full_history_prompt(prompt_movies)\n",
    "    vector = embed_func(prompt, berttokenizer, bertmodel)[0]\n",
    "    retrieved_ids = tbl.search(vector).limit(10).to_pandas()['movieId'].to_list()\n",
    "    rec = recall(test_movie_ids, retrieved_ids)\n",
    "    recalls.append(rec)\n",
    "    pb.update(1)"
   ]
  },
  {
   "cell_type": "code",
   "execution_count": 90,
   "metadata": {},
   "outputs": [
    {
     "name": "stdout",
     "output_type": "stream",
     "text": [
      "total history recall: 0.0008064516129032257\n"
     ]
    }
   ],
   "source": [
    "print(f\"total history recall: {sum(recalls)/len(recalls)}\")"
   ]
  },
  {
   "cell_type": "code",
   "execution_count": null,
   "metadata": {},
   "outputs": [],
   "source": []
  }
 ],
 "metadata": {
  "kernelspec": {
   "display_name": "Python 3",
   "language": "python",
   "name": "python3"
  },
  "language_info": {
   "codemirror_mode": {
    "name": "ipython",
    "version": 3
   },
   "file_extension": ".py",
   "mimetype": "text/x-python",
   "name": "python",
   "nbconvert_exporter": "python",
   "pygments_lexer": "ipython3",
   "version": "3.11.4"
  }
 },
 "nbformat": 4,
 "nbformat_minor": 2
}
